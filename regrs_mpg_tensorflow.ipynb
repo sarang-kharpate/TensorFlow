{
  "nbformat": 4,
  "nbformat_minor": 0,
  "metadata": {
    "colab": {
      "name": "regrs_mpg_tensorflow.ipynb",
      "provenance": [],
      "authorship_tag": "ABX9TyOugrPooRkkYYkyWuRSABBT"
    },
    "kernelspec": {
      "name": "python3",
      "display_name": "Python 3"
    }
  },
  "cells": [
    {
      "cell_type": "code",
      "metadata": {
        "id": "zQdR_64INhxF",
        "colab_type": "code",
        "colab": {}
      },
      "source": [
        ""
      ],
      "execution_count": 0,
      "outputs": []
    }
  ]
}