{
  "nbformat": 4,
  "nbformat_minor": 0,
  "metadata": {
    "colab": {
      "name": "tensorflow.ipynb",
      "provenance": [],
      "collapsed_sections": [],
      "authorship_tag": "ABX9TyO0Nh6ua2yNgwO2xBXpIXp+"
    },
    "kernelspec": {
      "name": "python3",
      "display_name": "Python 3"
    }
  },
  "cells": [
    {
      "cell_type": "code",
      "metadata": {
        "id": "PWtokp-QAkaM",
        "colab_type": "code",
        "colab": {}
      },
      "source": [
        "# Importing tensorflow and numpy and logging only the errors \n",
        "import tensorflow as tf\n",
        "# tf.logging.set_verbosity(tf.logging.Error)\n",
        "import numpy as np\n"
      ],
      "execution_count": 0,
      "outputs": []
    },
    {
      "cell_type": "code",
      "metadata": {
        "id": "yuS1LKwkEP3H",
        "colab_type": "code",
        "colab": {
          "base_uri": "https://localhost:8080/",
          "height": 136
        },
        "outputId": "988cbec0-b062-4479-dfb2-7adc9b61cdda"
      },
      "source": [
        "# Input for the model \n",
        "celcius_q = np.array([-40, -10, 0, 8, 15, 22, 38], dtype=float)\n",
        "# Output for learning \n",
        "fahrenheit_a = np.array([-40, 14, 32, 46, 59, 72, 100], dtype=float)\n",
        "\n",
        "for i, c in enumerate(celcius_q):\n",
        "    print(f'{c} degree celcius = {fahrenheit_a[i]} degree fahrenheit')"
      ],
      "execution_count": 10,
      "outputs": [
        {
          "output_type": "stream",
          "text": [
            "-40.0 degree celcius = -40.0 degree fahrenheit\n",
            "-10.0 degree celcius = 14.0 degree fahrenheit\n",
            "0.0 degree celcius = 32.0 degree fahrenheit\n",
            "8.0 degree celcius = 46.0 degree fahrenheit\n",
            "15.0 degree celcius = 59.0 degree fahrenheit\n",
            "22.0 degree celcius = 72.0 degree fahrenheit\n",
            "38.0 degree celcius = 100.0 degree fahrenheit\n"
          ],
          "name": "stdout"
        }
      ]
    },
    {
      "cell_type": "code",
      "metadata": {
        "id": "-B40Kem8FX8s",
        "colab_type": "code",
        "colab": {}
      },
      "source": [
        "layer_0 = tf.keras.layers.Dense(units=1)\n",
        "model = tf.keras.Sequential(layers=layer_0)"
      ],
      "execution_count": 0,
      "outputs": []
    },
    {
      "cell_type": "code",
      "metadata": {
        "id": "tb7Mvd4sHG2T",
        "colab_type": "code",
        "colab": {}
      },
      "source": [
        "model.compile(loss='mean_squared_error',\n",
        "              optimizer=tf.keras.optimizers.Adam(learning_rate=0.1))"
      ],
      "execution_count": 0,
      "outputs": []
    },
    {
      "cell_type": "code",
      "metadata": {
        "id": "6RUmFOrRIK-A",
        "colab_type": "code",
        "colab": {
          "base_uri": "https://localhost:8080/",
          "height": 34
        },
        "outputId": "1ad195ce-44ab-4e70-b438-708aac28f612"
      },
      "source": [
        "history = model.fit(x=celcius_q,\n",
        "                    y=fahrenheit_a,\n",
        "                    epochs=500,\n",
        "                    verbose=False)\n",
        "print('Finished training the model')"
      ],
      "execution_count": 19,
      "outputs": [
        {
          "output_type": "stream",
          "text": [
            "Finished training the model\n"
          ],
          "name": "stdout"
        }
      ]
    },
    {
      "cell_type": "code",
      "metadata": {
        "id": "tn5qXaZLIcD7",
        "colab_type": "code",
        "colab": {
          "base_uri": "https://localhost:8080/",
          "height": 353
        },
        "outputId": "1d084013-beee-483b-cd8a-f828086d3982"
      },
      "source": [
        "import matplotlib.pyplot as plt\n",
        "%matplotlib inline \n",
        "plt.figure(figsize=(10,5))\n",
        "plt.xlabel('Number of epochs')\n",
        "plt.ylabel('Loss Magnitude')\n",
        "plt.plot(history.history['loss'])"
      ],
      "execution_count": 27,
      "outputs": [
        {
          "output_type": "execute_result",
          "data": {
            "text/plain": [
              "[<matplotlib.lines.Line2D at 0x7f8475996208>]"
            ]
          },
          "metadata": {
            "tags": []
          },
          "execution_count": 27
        },
        {
          "output_type": "display_data",
          "data": {
            "image/png": "[encoded data removed]",
            "text/plain": [
              "<Figure size 720x360 with 1 Axes>"
            ]
          },
          "metadata": {
            "tags": [],
            "needs_background": "light"
          }
        }
      ]
    },
    {
      "cell_type": "code",
      "metadata": {
        "id": "AdbDsbg3JMC7",
        "colab_type": "code",
        "colab": {
          "base_uri": "https://localhost:8080/",
          "height": 34
        },
        "outputId": "5a1bfbf2-843d-4daf-f1cf-b483781184b6"
      },
      "source": [
        "print(model.predict([100.0]))"
      ],
      "execution_count": 28,
      "outputs": [
        {
          "output_type": "stream",
          "text": [
            "[[211.74408]]\n"
          ],
          "name": "stdout"
        }
      ]
    },
    {
      "cell_type": "code",
      "metadata": {
        "id": "LplYRDLDJM3B",
        "colab_type": "code",
        "colab": {
          "base_uri": "https://localhost:8080/",
          "height": 34
        },
        "outputId": "83d610c1-2ce0-416f-e605-3113d2931357"
      },
      "source": [
        "print(f'These are layer variables: {layer_0.get_weights()}')"
      ],
      "execution_count": 32,
      "outputs": [
        {
          "output_type": "stream",
          "text": [
            "These are layer variables: [array([[1.7981308]], dtype=float32), array([31.931002], dtype=float32)]\n"
          ],
          "name": "stdout"
        }
      ]
    },
    {
      "cell_type": "code",
      "metadata": {
        "id": "lIHf9AwRKo30",
        "colab_type": "code",
        "colab": {
          "base_uri": "https://localhost:8080/",
          "height": 323
        },
        "outputId": "f5340ed9-cb95-4450-e023-e97c641a75dc"
      },
      "source": [
        "# Trying with another model \n",
        "layer_0 = tf.keras.layers.Dense(units=4)\n",
        "layer_1 = tf.keras.layers.Dense(units=4)\n",
        "layer_2 = tf.keras.layers.Dense(units=1)\n",
        "\n",
        "model = tf.keras.Sequential([layer_0, layer_1, layer_2])\n",
        "model.compile(loss='mean_squared_error', optimizer=tf.keras.optimizers.Adam(0.1))\n",
        "history = model.fit(x=celcius_q, y=fahrenheit_a, epochs=500, verbose=False)\n",
        "print('Finished training of the model')\n",
        "print('-'*50)\n",
        "print(f'Prdicted value for 100.0 cel is : {model.predict([100.0])}')\n",
        "print('-'*50)\n",
        "print(f'These are layer_0 variables : {layer_0.get_weights()} ')\n",
        "print('-'*50)\n",
        "print(f'These are layer_1 variables : {layer_1.get_weights()} ')\n",
        "print('-'*50)\n",
        "print(f'These are layer_2 variables : {layer_2.get_weights()} ')\n",
        "print('-'*50)"
      ],
      "execution_count": 35,
      "outputs": [
        {
          "output_type": "stream",
          "text": [
            "Finished training of the model\n",
            "--------------------------------------------------\n",
            "Prdicted value for 100.0 cel is : [[211.74742]]\n",
            "--------------------------------------------------\n",
            "These are layer_0 variables : [array([[ 0.27834886, -0.40883127,  0.439601  , -0.06875374]],\n",
            "      dtype=float32), array([ 3.6775305, -3.8346527,  3.669748 , -2.5964298], dtype=float32)] \n",
            "--------------------------------------------------\n",
            "These are layer_1 variables : [array([[ 0.08072186, -0.6110553 ,  0.16282216, -0.6262795 ],\n",
            "       [-0.9484747 , -0.40860468,  0.31005004,  0.71977216],\n",
            "       [ 0.92742354, -0.7471443 ,  0.84050417, -0.34850845],\n",
            "       [-0.61487496,  0.21281159,  0.06531896, -0.01147542]],\n",
            "      dtype=float32), array([ 3.7149937, -3.552075 ,  0.9061313, -3.2605567], dtype=float32)] \n",
            "--------------------------------------------------\n",
            "These are layer_2 variables : [array([[ 1.0457287 ],\n",
            "       [-0.72246325],\n",
            "       [ 0.22881137],\n",
            "       [-0.93955904]], dtype=float32), array([3.5538907], dtype=float32)] \n",
            "--------------------------------------------------\n"
          ],
          "name": "stdout"
        }
      ]
    },
    {
      "cell_type": "code",
      "metadata": {
        "id": "IQzXJPVDMoig",
        "colab_type": "code",
        "colab": {}
      },
      "source": [
        ""
      ],
      "execution_count": 0,
      "outputs": []
    }
  ]
}